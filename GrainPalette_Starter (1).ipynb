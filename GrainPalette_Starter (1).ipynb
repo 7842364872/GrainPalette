{
 "cells": [
  {
   "cell_type": "markdown",
   "id": "58abb20f",
   "metadata": {},
   "source": [
    "# 🌾 GrainPalette - Rice Classification using MobileNet"
   ]
  },
  {
   "cell_type": "code",
   "execution_count": null,
   "id": "8544846f",
   "metadata": {},
   "outputs": [],
   "source": [
    "from tensorflow.keras.preprocessing.image import ImageDataGenerator\n",
    "\n",
    "# Set up image data generator\n",
    "datagen = ImageDataGenerator(\n",
    "    rescale=1./255,\n",
    "    validation_split=0.2  # 80% train, 20% validation\n",
    ")\n"
   ]
  },
  {
   "cell_type": "code",
   "execution_count": null,
   "id": "c88c27b9",
   "metadata": {},
   "outputs": [],
   "source": [
    "# Set dataset path (update if needed)\n",
    "dataset_path = \"C:/Users/pooja/Downloads/archive/Rice_Image_Dataset\"\n"
   ]
  },
  {
   "cell_type": "code",
   "execution_count": null,
   "id": "89b4a92e",
   "metadata": {},
   "outputs": [],
   "source": [
    "# Create training and validation generators\n",
    "train_generator = datagen.flow_from_directory(\n",
    "    dataset_path,\n",
    "    target_size=(224, 224),\n",
    "    class_mode=\"categorical\",\n",
    "    batch_size=32,\n",
    "    subset=\"training\"\n",
    ")\n",
    "\n",
    "val_generator = datagen.flow_from_directory(\n",
    "    dataset_path,\n",
    "    target_size=(224, 224),\n",
    "    class_mode=\"categorical\",\n",
    "    batch_size=32,\n",
    "    subset=\"validation\"\n",
    ")\n"
   ]
  },
  {
   "cell_type": "code",
   "execution_count": null,
   "id": "ade27306",
   "metadata": {},
   "outputs": [],
   "source": [
    "# Optional: Display class indices\n",
    "print(\"Class indices:\", train_generator.class_indices)\n"
   ]
  }
 ],
 "metadata": {},
 "nbformat": 4,
 "nbformat_minor": 5
}